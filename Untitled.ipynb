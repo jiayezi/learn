{
 "cells": [
  {
   "cell_type": "code",
   "execution_count": 1,
   "id": "72906113-2a41-4c64-8525-cde83196ecad",
   "metadata": {},
   "outputs": [],
   "source": [
    "import pandas as pd\n",
    "import numpy as np"
   ]
  },
  {
   "cell_type": "code",
   "execution_count": 3,
   "id": "4f6a35d3-cd81-4b33-9c24-908bf4cd8c31",
   "metadata": {},
   "outputs": [],
   "source": [
    "df = pd.read_excel('F:/用户目录/桌面/测试.xlsx')"
   ]
  }
 ],
 "metadata": {
  "kernelspec": {
   "display_name": "Python 3 (ipykernel)",
   "language": "python",
   "name": "python3"
  },
  "language_info": {
   "codemirror_mode": {
    "name": "ipython",
    "version": 3
   },
   "file_extension": ".py",
   "mimetype": "text/x-python",
   "name": "python",
   "nbconvert_exporter": "python",
   "pygments_lexer": "ipython3",
   "version": "3.10.11"
  }
 },
 "nbformat": 4,
 "nbformat_minor": 5
}
